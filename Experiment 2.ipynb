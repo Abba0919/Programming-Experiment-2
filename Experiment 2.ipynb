{
 "cells": [
  {
   "cell_type": "markdown",
   "id": "00ead599-7e88-408b-9a46-7452bccf3860",
   "metadata": {},
   "source": [
    "## Experiment 2"
   ]
  },
  {
   "cell_type": "markdown",
   "id": "5f67f12c-db23-490c-91d6-c53c24cb323f",
   "metadata": {},
   "source": [
    "### Code 1"
   ]
  },
  {
   "cell_type": "code",
   "execution_count": 21,
   "id": "f0b2e15b-5848-4449-b53d-8317882b2555",
   "metadata": {},
   "outputs": [
    {
     "name": "stdout",
     "output_type": "stream",
     "text": [
      "Original Array X:\n",
      " [[ 0.96016258 -0.06793382 -0.33953773  2.43527592  0.10291982]\n",
      " [-0.76596373  0.07759943 -0.7680266   0.11267633  0.48648113]\n",
      " [-0.34660388 -1.21893098  0.75451275 -0.31950213  0.99370343]\n",
      " [ 0.84517443 -0.12240756 -1.05562648  1.23018082 -1.07738674]\n",
      " [ 0.60247132  0.76578091 -0.95516135 -1.23433332 -1.50317266]]\n",
      "\n",
      "Mean of X:\n",
      "-0.016305924178649782\n",
      "\n",
      "Standard Deviation of X:\n",
      "0.9345717406977287\n",
      "\n",
      "Normalized Array X_normalized:\n",
      " [[ 1.0448299  -0.0552423  -0.34586089  2.62321418  0.1275726 ]\n",
      " [-0.80214046  0.10047956 -0.80434774  0.13801215  0.53798658]\n",
      " [-0.35342172 -1.2868194   0.82478277 -0.32442261  1.08071891]\n",
      " [ 0.92179157 -0.11352968 -1.11208216  1.33375181 -1.13536583]\n",
      " [ 0.6620971   0.83683981 -1.00458358 -1.30330005 -1.59096051]]\n"
     ]
    }
   ],
   "source": [
    "import numpy as np\n",
    "# create a random 5x5 ndarray\n",
    "X = np.random.randn(5, 5)\n",
    "# make a mean and standard deviation\n",
    "mean = X.mean()\n",
    "std = X.std()\n",
    "# normalize X\n",
    "X_normalized = (X - mean) / std\n",
    "np.save('X_normalized.npy', X_normalized)\n",
    "# Output the values\n",
    "print(\"Original Array X:\\n\", X)\n",
    "print(\"\\nMean of X:\")\n",
    "print(mean)\n",
    "print(\"\\nStandard Deviation of X:\")\n",
    "print(std)\n",
    "print(\"\\nNormalized Array X_normalized:\\n\", X_normalized)\n",
    "\n"
   ]
  },
  {
   "cell_type": "markdown",
   "id": "b0698d51-2fbd-4d61-9d16-7a5890c01460",
   "metadata": {},
   "source": [
    "### Code 2"
   ]
  },
  {
   "cell_type": "code",
   "execution_count": 93,
   "id": "7e4668a1-7c74-487a-92b8-2434525664da",
   "metadata": {},
   "outputs": [
    {
     "name": "stdout",
     "output_type": "stream",
     "text": [
      "[[    1     4     9    16    25    36    49    64    81   100]\n",
      " [  121   144   169   196   225   256   289   324   361   400]\n",
      " [  441   484   529   576   625   676   729   784   841   900]\n",
      " [  961  1024  1089  1156  1225  1296  1369  1444  1521  1600]\n",
      " [ 1681  1764  1849  1936  2025  2116  2209  2304  2401  2500]\n",
      " [ 2601  2704  2809  2916  3025  3136  3249  3364  3481  3600]\n",
      " [ 3721  3844  3969  4096  4225  4356  4489  4624  4761  4900]\n",
      " [ 5041  5184  5329  5476  5625  5776  5929  6084  6241  6400]\n",
      " [ 6561  6724  6889  7056  7225  7396  7569  7744  7921  8100]\n",
      " [ 8281  8464  8649  8836  9025  9216  9409  9604  9801 10000]]\n"
     ]
    }
   ],
   "source": [
    "import numpy as np\n",
    "\n",
    "# create a 10x10 ndarray with squares of the first 100 positive integers\n",
    "squares = np.arange(1, 101).reshape(10, 10) ** 2\n",
    "\n",
    "div_by_3 = squares[squares % 1 == 0]\n",
    "\n",
    "# Print the result\n",
    "print(squares)"
   ]
  },
  {
   "cell_type": "code",
   "execution_count": null,
   "id": "ff5ab7c9-e603-4ab3-86aa-41703500ab61",
   "metadata": {},
   "outputs": [],
   "source": []
  }
 ],
 "metadata": {
  "kernelspec": {
   "display_name": "Python 3 (ipykernel)",
   "language": "python",
   "name": "python3"
  },
  "language_info": {
   "codemirror_mode": {
    "name": "ipython",
    "version": 3
   },
   "file_extension": ".py",
   "mimetype": "text/x-python",
   "name": "python",
   "nbconvert_exporter": "python",
   "pygments_lexer": "ipython3",
   "version": "3.12.4"
  }
 },
 "nbformat": 4,
 "nbformat_minor": 5
}
